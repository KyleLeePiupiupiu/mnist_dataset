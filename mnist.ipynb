{
 "cells": [
  {
   "cell_type": "code",
   "execution_count": 38,
   "metadata": {},
   "outputs": [],
   "source": [
    "from keras.datasets import mnist\n",
    "from keras import models\n",
    "from keras import layers\n",
    "import matplotlib.pyplot as plt\n",
    "import numpy as np\n",
    "from tensorflow.keras.utils import to_categorical"
   ]
  },
  {
   "cell_type": "markdown",
   "metadata": {},
   "source": [
    "# Load data"
   ]
  },
  {
   "cell_type": "code",
   "execution_count": 27,
   "metadata": {},
   "outputs": [
    {
     "name": "stdout",
     "output_type": "stream",
     "text": [
      "(60000, 28, 28)\n",
      "(10000, 28, 28)\n",
      "\n",
      "60000\n",
      "10000\n"
     ]
    }
   ],
   "source": [
    "# loda data\n",
    "(trainImage, trainLabel), (testImage, testLabel) = mnist.load_data()\n",
    "# train image\n",
    "print(trainImage.shape)\n",
    "print(testImage.shape)\n",
    "print()\n",
    "\n",
    "# train label\n",
    "\n",
    "print(len(trainLabel))\n",
    "print(len(testLabel))"
   ]
  },
  {
   "cell_type": "code",
   "execution_count": 28,
   "metadata": {},
   "outputs": [
    {
     "data": {
      "image/png": "[encoded data removed]",
      "text/plain": [
       "<Figure size 432x288 with 1 Axes>"
      ]
     },
     "metadata": {
      "needs_background": "light"
     },
     "output_type": "display_data"
    },
    {
     "data": {
      "image/png": "[encoded data removed]",
      "text/plain": [
       "<Figure size 432x288 with 1 Axes>"
      ]
     },
     "metadata": {
      "needs_background": "light"
     },
     "output_type": "display_data"
    },
    {
     "data": {
      "image/png": "[encoded data removed]",
      "text/plain": [
       "<Figure size 432x288 with 1 Axes>"
      ]
     },
     "metadata": {
      "needs_background": "light"
     },
     "output_type": "display_data"
    },
    {
     "data": {
      "image/png": "[encoded data removed]",
      "text/plain": [
       "<Figure size 432x288 with 1 Axes>"
      ]
     },
     "metadata": {
      "needs_background": "light"
     },
     "output_type": "display_data"
    },
    {
     "data": {
      "image/png": "[encoded data removed]",
      "text/plain": [
       "<Figure size 432x288 with 1 Axes>"
      ]
     },
     "metadata": {
      "needs_background": "light"
     },
     "output_type": "display_data"
    }
   ],
   "source": [
    "# show some data image\n",
    "for i in range(5):\n",
    "    img = trainImage[i]\n",
    "    plt.imshow(img, cmap='Greys')\n",
    "    plt.show()"
   ]
  },
  {
   "cell_type": "markdown",
   "metadata": {},
   "source": [
    "# Network building"
   ]
  },
  {
   "cell_type": "code",
   "execution_count": 65,
   "metadata": {},
   "outputs": [],
   "source": [
    "nn = models.Sequential()\n",
    "\n",
    "nn.add(layers.Dense(64, activation='relu', input_shape=(28*28, )))\n",
    "nn.add(layers.Dense(1024, activation='relu'))\n",
    "\n",
    "\n",
    "\n",
    "nn.add(layers.Dense(10, activation='softmax'))\n",
    "\n",
    "nn.compile(optimizer='rmsprop', loss='categorical_crossentropy', metrics=['accuracy'])"
   ]
  },
  {
   "cell_type": "code",
   "execution_count": 66,
   "metadata": {},
   "outputs": [],
   "source": [
    "# reshape image\n",
    "fTrainImages = trainImage.reshape((60000, 28*28))\n",
    "fTestImages = testImage.reshape((10000, 28*28))\n",
    "\n",
    "# reshape label\n",
    "fTrainLabel = to_categorical(trainLabel)\n",
    "fTestLabel = to_categorical(testLabel)\n"
   ]
  },
  {
   "cell_type": "code",
   "execution_count": 67,
   "metadata": {},
   "outputs": [
    {
     "name": "stdout",
     "output_type": "stream",
     "text": [
      "Epoch 1/15\n",
      "938/938 [==============================] - 10s 10ms/step - loss: 1.4401 - accuracy: 0.7814 - val_loss: 0.2783 - val_accuracy: 0.9268\n",
      "Epoch 2/15\n",
      "938/938 [==============================] - 9s 9ms/step - loss: 0.2399 - accuracy: 0.9399 - val_loss: 0.1895 - val_accuracy: 0.9504\n",
      "Epoch 3/15\n",
      "938/938 [==============================] - 9s 10ms/step - loss: 0.1914 - accuracy: 0.9543 - val_loss: 0.1328 - val_accuracy: 0.9656\n",
      "Epoch 4/15\n",
      "938/938 [==============================] - 9s 9ms/step - loss: 0.1583 - accuracy: 0.9622 - val_loss: 0.1489 - val_accuracy: 0.9681\n",
      "Epoch 5/15\n",
      "938/938 [==============================] - 8s 9ms/step - loss: 0.1550 - accuracy: 0.9659 - val_loss: 0.1392 - val_accuracy: 0.9690\n",
      "Epoch 6/15\n",
      "938/938 [==============================] - 8s 9ms/step - loss: 0.1494 - accuracy: 0.9689 - val_loss: 0.1042 - val_accuracy: 0.9720\n",
      "Epoch 7/15\n",
      "938/938 [==============================] - 8s 9ms/step - loss: 0.1342 - accuracy: 0.9713 - val_loss: 0.0889 - val_accuracy: 0.9786\n",
      "Epoch 8/15\n",
      "938/938 [==============================] - 9s 9ms/step - loss: 0.1262 - accuracy: 0.9741 - val_loss: 0.1629 - val_accuracy: 0.9610\n",
      "Epoch 9/15\n",
      "938/938 [==============================] - 9s 9ms/step - loss: 0.1266 - accuracy: 0.9757 - val_loss: 0.0942 - val_accuracy: 0.9776\n",
      "Epoch 10/15\n",
      "938/938 [==============================] - 9s 10ms/step - loss: 0.1270 - accuracy: 0.9755 - val_loss: 0.0889 - val_accuracy: 0.9807\n",
      "Epoch 11/15\n",
      "938/938 [==============================] - 9s 9ms/step - loss: 0.1263 - accuracy: 0.9769 - val_loss: 0.1363 - val_accuracy: 0.9743\n",
      "Epoch 12/15\n",
      "938/938 [==============================] - 8s 9ms/step - loss: 0.1251 - accuracy: 0.9778 - val_loss: 0.1855 - val_accuracy: 0.9720\n",
      "Epoch 13/15\n",
      "938/938 [==============================] - 7s 8ms/step - loss: 0.1283 - accuracy: 0.9773 - val_loss: 0.1063 - val_accuracy: 0.9757\n",
      "Epoch 14/15\n",
      "938/938 [==============================] - 8s 8ms/step - loss: 0.1105 - accuracy: 0.9792 - val_loss: 0.2090 - val_accuracy: 0.9612\n",
      "Epoch 15/15\n",
      "938/938 [==============================] - 8s 9ms/step - loss: 0.1233 - accuracy: 0.9780 - val_loss: 0.1269 - val_accuracy: 0.9734\n"
     ]
    }
   ],
   "source": [
    "# training\n",
    "result = nn.fit(fTrainImages, fTrainLabel, epochs=15, batch_size=64, validation_data=(fTrainImages, fTrainLabel))"
   ]
  },
  {
   "cell_type": "code",
   "execution_count": 77,
   "metadata": {},
   "outputs": [
    {
     "name": "stdout",
     "output_type": "stream",
     "text": [
      "313/313 [==============================] - 1s 3ms/step - loss: 0.5025 - accuracy: 0.9577\n",
      "test loss 0.5024771690368652\n",
      "test accuracy 0.9577000141143799\n"
     ]
    }
   ],
   "source": [
    "# test\n",
    "testLoss, testAcc = nn.evaluate(fTestImages, fTestLabel)\n",
    "print('test loss', testLoss)\n",
    "print('test accuracy', testAcc)"
   ]
  },
  {
   "cell_type": "markdown",
   "metadata": {},
   "source": [
    "# plot"
   ]
  },
  {
   "cell_type": "code",
   "execution_count": 76,
   "metadata": {},
   "outputs": [
    {
     "data": {
      "text/plain": [
       "{'loss': [0.595130443572998,\n",
       "  0.23321281373500824,\n",
       "  0.1880960762500763,\n",
       "  0.16768741607666016,\n",
       "  0.16472193598747253,\n",
       "  0.14506889879703522,\n",
       "  0.14135430753231049,\n",
       "  0.13839316368103027,\n",
       "  0.13027404248714447,\n",
       "  0.1233324334025383,\n",
       "  0.13351058959960938,\n",
       "  0.1343659609556198,\n",
       "  0.13621902465820312,\n",
       "  0.13022534549236298,\n",
       "  0.1414794921875],\n",
       " 'accuracy': [0.8694833517074585,\n",
       "  0.9429500102996826,\n",
       "  0.9549999833106995,\n",
       "  0.9612833261489868,\n",
       "  0.9657166600227356,\n",
       "  0.9685333371162415,\n",
       "  0.970716655254364,\n",
       "  0.9735999703407288,\n",
       "  0.9742833375930786,\n",
       "  0.9750166535377502,\n",
       "  0.9764166474342346,\n",
       "  0.9764666557312012,\n",
       "  0.9761000275611877,\n",
       "  0.9771333336830139,\n",
       "  0.9770500063896179],\n",
       " 'val_loss': [0.2783273458480835,\n",
       "  0.1895022988319397,\n",
       "  0.13280515372753143,\n",
       "  0.1489349752664566,\n",
       "  0.13915450870990753,\n",
       "  0.10424571484327316,\n",
       "  0.08888937532901764,\n",
       "  0.16291943192481995,\n",
       "  0.09418987482786179,\n",
       "  0.08886805176734924,\n",
       "  0.13629506528377533,\n",
       "  0.18546037375926971,\n",
       "  0.10634086281061172,\n",
       "  0.20900923013687134,\n",
       "  0.12691320478916168],\n",
       " 'val_accuracy': [0.9267666935920715,\n",
       "  0.9504166841506958,\n",
       "  0.965583324432373,\n",
       "  0.9681000113487244,\n",
       "  0.9690499901771545,\n",
       "  0.9720333218574524,\n",
       "  0.9785833358764648,\n",
       "  0.9609666466712952,\n",
       "  0.9776333570480347,\n",
       "  0.9807000160217285,\n",
       "  0.9743333458900452,\n",
       "  0.972000002861023,\n",
       "  0.9756500124931335,\n",
       "  0.9611999988555908,\n",
       "  0.9734166860580444]}"
      ]
     },
     "execution_count": 76,
     "metadata": {},
     "output_type": "execute_result"
    }
   ],
   "source": [
    "result.history"
   ]
  },
  {
   "cell_type": "code",
   "execution_count": 78,
   "metadata": {},
   "outputs": [
    {
     "data": {
      "image/png": "[encoded data removed]",
      "text/plain": [
       "<Figure size 432x288 with 1 Axes>"
      ]
     },
     "metadata": {
      "needs_background": "light"
     },
     "output_type": "display_data"
    }
   ],
   "source": [
    "# training loss\n",
    "historyDict = result.history\n",
    "lossValue = historyDict['loss']\n",
    "valLossValue = historyDict['val_loss']\n",
    "epochs = range(1, len(lossValue) + 1)\n",
    "\n",
    "plt.plot(epochs, lossValue, 'bo', label='Training loss')\n",
    "plt.plot(epochs, valLossValue, 'red', label='Validation loss')\n",
    "plt.title('Training and validation loss')\n",
    "plt.xlabel('Epochs')\n",
    "plt.ylabel('Loss')\n",
    "plt.legend()\n",
    " \n",
    "plt.show()"
   ]
  },
  {
   "cell_type": "code",
   "execution_count": 84,
   "metadata": {},
   "outputs": [
    {
     "data": {
      "image/png": "[encoded data removed]",
      "text/plain": [
       "<Figure size 432x288 with 1 Axes>"
      ]
     },
     "metadata": {
      "needs_background": "light"
     },
     "output_type": "display_data"
    }
   ],
   "source": [
    "# plot training accuracy\n",
    "acc = historyDict['accuracy']\n",
    "valAcc = historyDict['val_accuracy']\n",
    "plt.plot(epochs, acc, 'bo', label='Training acc')\n",
    "plt.plot(epochs, valAcc, 'red', label='Validation acc')\n",
    "plt.title('Training and validation accuracy')\n",
    "plt.xlabel('Epochs')\n",
    "plt.ylabel('Accuracy')\n",
    "plt.legend()\n",
    " \n",
    "plt.show()"
   ]
  }
 ],
 "metadata": {
  "interpreter": {
   "hash": "58787c9c7ba986782a192699c1af7aada0cdb70fe25eea6b98466d11cf3b9fb3"
  },
  "kernelspec": {
   "display_name": "Python 3.9.4 64-bit ('tensorflow': conda)",
   "language": "python",
   "name": "python3"
  },
  "language_info": {
   "codemirror_mode": {
    "name": "ipython",
    "version": 3
   },
   "file_extension": ".py",
   "mimetype": "text/x-python",
   "name": "python",
   "nbconvert_exporter": "python",
   "pygments_lexer": "ipython3",
   "version": "3.9.4"
  },
  "orig_nbformat": 4
 },
 "nbformat": 4,
 "nbformat_minor": 2
}
